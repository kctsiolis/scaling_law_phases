{
 "cells": [
  {
   "cell_type": "code",
   "execution_count": 1,
   "metadata": {},
   "outputs": [],
   "source": [
    "import numpy as np\n",
    "import jax.numpy as jnp\n",
    "from jax import random, jit\n",
    "from matplotlib import pyplot as plt\n",
    "from functools import partial"
   ]
  },
  {
   "cell_type": "code",
   "execution_count": 2,
   "metadata": {},
   "outputs": [],
   "source": [
    "def plot_spectra(Khat_eigs, xvals, limit_dist=None, y_log=True, left_limit=6):\n",
    "    _, bins = jnp.histogram(Khat_eigs[Khat_eigs > 0], bins=100)\n",
    "    logbins = np.logspace(-left_limit,np.log10(bins[-1]),len(bins))\n",
    "    plt.hist(Khat_eigs, bins=logbins, density=True)\n",
    "    plt.xscale(\"log\")\n",
    "    if limit_dist is not None:\n",
    "        plt.plot(xvals, limit_dist)\n",
    "    if y_log:\n",
    "        plt.yscale(\"log\")"
   ]
  },
  {
   "cell_type": "code",
   "execution_count": 5,
   "metadata": {},
   "outputs": [],
   "source": [
    "# Warning: Due to jitting, this code will break if any of an object's attributes will change\n",
    "# There is technically a better way of doing this by writing this methods as \n",
    "# functions outside the class.\n",
    "class SpikedRF():\n",
    "    def __init__(self,v,d,alpha,beta,tau):\n",
    "        self.v = v\n",
    "        self.d = d\n",
    "        self.alpha = alpha\n",
    "        self.beta = beta\n",
    "        self.tau = tau\n",
    "\n",
    "        indices_vec = jnp.arange(self.v*1.0) + 1\n",
    "        self.b = jnp.power(indices_vec,-self.beta)\n",
    "        self.a = jnp.power(indices_vec,-self.alpha-self.beta)\n",
    "        self.D_vec = jnp.power(indices_vec,-2*self.alpha)\n",
    "\n",
    "    @partial(jit, static_argnums=0)\n",
    "    def stieltjes_inversion(self,s):\n",
    "        return 1 / jnp.pi * jnp.imag(s) / self.d\n",
    "\n",
    "    def empirical_spectrum(self,n_sims,seed=0):\n",
    "        key = random.key(seed)\n",
    "        sqrt_D = jnp.diag(jnp.sqrt(self.D_vec))\n",
    "        one = jnp.ones(shape=(self.d,))\n",
    "        Khat_eigs = jnp.zeros((self.v,))\n",
    "\n",
    "        for _ in range(n_sims):\n",
    "            key, Z_key = random.split(key)\n",
    "            Z = random.normal(Z_key, shape=(self.v,self.d)) / jnp.sqrt(self.d)\n",
    "\n",
    "            W = self.tau * self.d**(self.beta-1) * jnp.outer(self.b,one) + Z\n",
    "\n",
    "            Khat = sqrt_D @ W @ W.T @ sqrt_D\n",
    "            Khat_eigs += jnp.linalg.eigvalsh(Khat)\n",
    "\n",
    "        return Khat_eigs / n_sims\n",
    "\n",
    "    @partial(jit, static_argnums=0)\n",
    "    def hachem_fp_step(self,z,s,t):\n",
    "        S_vec = 1/(1+(s/self.d)*self.D_vec)\n",
    "        bSb = jnp.sum(S_vec * (self.a**2))\n",
    "        u = 1/(1 + t/self.d)\n",
    "        denom = 1-self.tau**2/z * self.d**(2*self.beta-1) * u * bSb\n",
    "\n",
    "        s = -self.d/z * u - (self.tau**2/z**2 * self.d**(2*self.beta-1) * u**2 * bSb)/denom\n",
    "        t = -jnp.sum(self.D_vec * S_vec)/z - (self.tau**2 * self.d**(2*self.beta-1)/z**2 * \\\n",
    "            u * jnp.sum(self.D_vec * S_vec**2 * self.a**2))/denom\n",
    "\n",
    "        return s,t    \n",
    "\n",
    "    @partial(jit, static_argnums=0) \n",
    "    def hachem_fp_solve(self,x,ivals):\n",
    "        s = 1\n",
    "        t = 1\n",
    "        for i in ivals:\n",
    "            z = x + i*1.0j\n",
    "            s,t = self.hachem_fp_step(z,s,t)\n",
    "\n",
    "        return s,t\n",
    "\n",
    "    @partial(jit, static_argnums=0)\n",
    "    def hachem_limit_dist_x(self,x,ivals):\n",
    "        s,t = self.hachem_fp_solve(x,ivals)\n",
    "        z = x + 1.0j * ivals[-1]\n",
    "        S_vec = 1/(1+(s/self.d)*self.D_vec)\n",
    "        bSb = jnp.sum(S_vec * (self.a**2))\n",
    "        u = 1/(1 + t/self.d)\n",
    "        denom = 1-self.tau**2/z * self.d**(2*self.beta-1) * u * bSb\n",
    "        tr_R = -1/z * jnp.sum(S_vec) - (self.tau**2/z**2 * self.d**(2*self.beta-1) \\\n",
    "                                        * u * jnp.sum(S_vec**2 * self.a**2))/denom\n",
    "\n",
    "        return self.stieltjes_inversion(tr_R)\n",
    "\n",
    "    def hachem_limit_dist(self,xvals,ivals):\n",
    "        limit_dist = []\n",
    "        for x in xvals:\n",
    "            limit_dist.append(self.hachem_limit_dist_x(x,ivals).reshape(-1))\n",
    "\n",
    "        return jnp.array(limit_dist)\n",
    "\n",
    "    @partial(jit, static_argnums=0)\n",
    "    def newton_step_m(self,z,m):\n",
    "        S_vec = self.D_vec / (self.D_vec * m - z)\n",
    "        s = jnp.sum(S_vec)\n",
    "        s2 = jnp.sum(S_vec ** 2)\n",
    "        f = m * (1 + s/self.d) - 1\n",
    "        f_prime = 1 + s/self.d - m/self.d * s2\n",
    "        m -= f/f_prime\n",
    "\n",
    "        return m\n",
    "\n",
    "    @partial(jit, static_argnums=0)\n",
    "    def newton_solve_m(self,x,ivals):\n",
    "        m = 1\n",
    "        for i in ivals:\n",
    "            z = x + i*1.0j\n",
    "            m = self.newton_step_m(z,m)\n",
    "\n",
    "        return m\n",
    "\n",
    "    @partial(jit, static_argnums=0)\n",
    "    def sm_limit_dist_x(self,x,ivals):\n",
    "        m = self.newton_solve_m(x,ivals)\n",
    "        z = x + ivals[-1]*1.0j\n",
    "        R0 = 1/(self.D_vec*m-z)\n",
    "        bR02b = jnp.sum(R0**2 * self.a**2)\n",
    "        bR0b = jnp.sum(R0 * self.a**2)\n",
    "        tr_R = jnp.sum(R0) - (self.tau**2 * self.d**(2*self.beta-1) * bR02b)/(1+self.tau**2 * self.d**(2*self.beta-1) * bR0b)\n",
    "        # print(\"x = {}\".format(x))\n",
    "        # print(\"Approximate Density: {}\".format(jnp.imag(tr_R) / (jnp.pi * d)))\n",
    "        # print(\"Trace Contribution: {}\".format(jnp.imag(jnp.sum(R0)) / (jnp.pi * d)))\n",
    "        # print(\"Spike Contribution: {}\".format(jnp.imag(-(tau**2 * d**(2*beta) * bR02b)/(1+tau**2 * d**(2*beta) * bR0b)) / (jnp.pi * d)))\n",
    "\n",
    "        return self.stieltjes_inversion(tr_R)\n",
    "\n",
    "    def sm_limit_dist(self,xvals,ivals):\n",
    "        limit_dist = []\n",
    "        for x in xvals:\n",
    "            limit_dist.append(self.sm_limit_dist_x(x,ivals).reshape(-1))\n",
    "\n",
    "        return jnp.array(limit_dist).reshape(-1)"
   ]
  },
  {
   "cell_type": "code",
   "execution_count": 12,
   "metadata": {},
   "outputs": [],
   "source": [
    "v = 10000\n",
    "d = 1000\n",
    "\n",
    "alpha = 0.75\n",
    "beta = 0.25\n",
    "tau = 1\n",
    "\n",
    "model = SpikedRF(v,d,alpha,beta,tau)\n",
    "\n",
    "xvals = jnp.logspace(-6,1,num=1000)\n",
    "ivals = jnp.logspace(4,-15,num=100)\n",
    "\n",
    "limit_dist = model.sm_limit_dist(xvals,ivals)"
   ]
  },
  {
   "cell_type": "code",
   "execution_count": 13,
   "metadata": {},
   "outputs": [
    {
     "data": {
      "image/png": "[encoded data removed]",
      "text/plain": [
       "<Figure size 640x480 with 1 Axes>"
      ]
     },
     "metadata": {},
     "output_type": "display_data"
    }
   ],
   "source": [
    "Khat_eigs = model.empirical_spectrum(n_sims=5)\n",
    "plot_spectra(Khat_eigs,xvals,limit_dist=limit_dist)"
   ]
  },
  {
   "cell_type": "code",
   "execution_count": 14,
   "metadata": {},
   "outputs": [
    {
     "name": "stdout",
     "output_type": "stream",
     "text": [
      "[-1.0100478e-07 -5.4026582e-08 -4.3575714e-08 ...  2.4449269e-01\n",
      "  5.4063743e-01  5.7826443e+00]\n"
     ]
    }
   ],
   "source": [
    "print(Khat_eigs)"
   ]
  }
 ],
 "metadata": {
  "kernelspec": {
   "display_name": "gf_env",
   "language": "python",
   "name": "python3"
  },
  "language_info": {
   "codemirror_mode": {
    "name": "ipython",
    "version": 3
   },
   "file_extension": ".py",
   "mimetype": "text/x-python",
   "name": "python",
   "nbconvert_exporter": "python",
   "pygments_lexer": "ipython3",
   "version": "3.12.0"
  }
 },
 "nbformat": 4,
 "nbformat_minor": 2
}
