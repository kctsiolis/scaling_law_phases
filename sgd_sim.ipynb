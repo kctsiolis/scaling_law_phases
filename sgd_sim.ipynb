{
 "cells": [
  {
   "cell_type": "code",
   "execution_count": 40,
   "metadata": {},
   "outputs": [],
   "source": [
    "import numpy as np\n",
    "import jax.numpy as jnp\n",
    "from jax import random, jit\n",
    "from matplotlib import pyplot as plt\n",
    "from jaxopt import OptaxSolver\n",
    "import optax"
   ]
  },
  {
   "cell_type": "code",
   "execution_count": 41,
   "metadata": {},
   "outputs": [],
   "source": [
    "# Set input dimension\n",
    "v = 1000\n",
    "\n",
    "# Set data and target complexity\n",
    "alpha = 0.75\n",
    "beta = 0.25\n",
    "\n",
    "D_vec = jnp.power(jnp.arange(v)+1,-2*alpha)\n",
    "D = jnp.diag(D_vec)\n",
    "\n",
    "# Define target\n",
    "b = jnp.power(jnp.arange(v)+1,-beta)\n",
    "\n",
    "key = random.key(0)"
   ]
  },
  {
   "cell_type": "code",
   "execution_count": 42,
   "metadata": {},
   "outputs": [],
   "source": [
    "@jit\n",
    "def loss(theta,W,data):\n",
    "    X, y = data\n",
    "    return jnp.mean((X @ W @ theta - y)**2)"
   ]
  },
  {
   "cell_type": "code",
   "execution_count": 43,
   "metadata": {},
   "outputs": [],
   "source": [
    "# Sample a batch of size B\n",
    "def generate_data(B,subkey):\n",
    "    Z = random.normal(subkey,shape=(B,v))\n",
    "    X = D_vec * Z\n",
    "    y = jnp.dot(X,b)\n",
    "\n",
    "    return X,y"
   ]
  },
  {
   "cell_type": "code",
   "execution_count": 44,
   "metadata": {},
   "outputs": [],
   "source": [
    "# Approximation of risk / test error\n",
    "@jit\n",
    "def risk(theta,W):\n",
    "    Wtheta = W @ theta\n",
    "    return jnp.sum(jnp.diag(jnp.outer(Wtheta,Wtheta)) * D_vec) + jnp.sum(D_vec * b**2) - 2 * jnp.sum(jnp.diag(W @ jnp.outer(theta,b)) * D_vec)"
   ]
  },
  {
   "cell_type": "code",
   "execution_count": 45,
   "metadata": {},
   "outputs": [],
   "source": [
    "def optimize(gamma,B,flops,d,W,key): \n",
    "    r = int(flops / (B*d))\n",
    "    opt = optax.sgd(learning_rate=gamma)\n",
    "    solver = OptaxSolver(opt=opt, fun=loss, maxiter=r, jit=True)\n",
    "    theta = jnp.zeros(d)\n",
    "    key, subkey = random.split(key)\n",
    "    data = generate_data(B,subkey)\n",
    "    state = solver.init_state(theta, W=W, data=data)\n",
    "\n",
    "    for _ in range(r):\n",
    "        key, subkey = random.split(key)\n",
    "        data = generate_data(B,subkey)\n",
    "        theta, state = solver.update(theta, state, W=W, data=data)\n",
    "\n",
    "    err = risk(theta,W)\n",
    "\n",
    "    return theta, err"
   ]
  },
  {
   "cell_type": "code",
   "execution_count": 46,
   "metadata": {},
   "outputs": [
    {
     "name": "stdout",
     "output_type": "stream",
     "text": [
      "10000.0\n",
      "16681.01\n",
      "27825.607\n",
      "46415.87\n",
      "77426.445\n",
      "129154.984\n",
      "215443.31\n",
      "359381.6\n",
      "599484.1\n",
      "1000000.0\n"
     ]
    }
   ],
   "source": [
    "flops = jnp.logspace(4,6,10)\n",
    "n_sims = 5\n",
    "B = 1\n",
    "gamma = 0.1\n",
    "dims = [100]\n",
    "tau = 0\n",
    "n_flops = jnp.shape(flops)[0]\n",
    "n_dims = len(dims)\n",
    "risks = np.zeros((n_flops,n_dims))\n",
    "\n",
    "\n",
    "for j, d in enumerate(dims):\n",
    "    key, subkey_Z = random.split(key)\n",
    "    one = jnp.ones(shape=(d,))\n",
    "    Z = random.normal(subkey_Z, shape=(v,d)) / jnp.sqrt(d)\n",
    "    W = tau / jnp.sqrt(d) * jnp.outer(b,one) + Z    \n",
    "    for i, C in enumerate(flops):\n",
    "        print(C)\n",
    "        err = 0\n",
    "        for _ in range(n_sims):\n",
    "            key, subkey_sgd = random.split(key)\n",
    "            theta, err_k = optimize(gamma,B,C,d,W,subkey_sgd)\n",
    "            err += err_k\n",
    "        risks[i,j] = err / n_sims"
   ]
  },
  {
   "cell_type": "code",
   "execution_count": 47,
   "metadata": {},
   "outputs": [
    {
     "data": {
      "text/plain": [
       "Text(0, 0.5, 'Risk')"
      ]
     },
     "execution_count": 47,
     "metadata": {},
     "output_type": "execute_result"
    },
    {
     "data": {
      "image/png": "[encoded data removed]",
      "text/plain": [
       "<Figure size 640x480 with 1 Axes>"
      ]
     },
     "metadata": {},
     "output_type": "display_data"
    }
   ],
   "source": [
    "for j,d in enumerate(dims):\n",
    "    plt.plot(flops,risks[:,j],label=\"d = {}\".format(d))\n",
    "plt.xscale(\"log\")\n",
    "plt.yscale(\"log\")\n",
    "plt.legend()\n",
    "plt.xlabel(\"flops\")\n",
    "plt.ylabel(\"Risk\")"
   ]
  }
 ],
 "metadata": {
  "kernelspec": {
   "display_name": "gf_env",
   "language": "python",
   "name": "python3"
  },
  "language_info": {
   "codemirror_mode": {
    "name": "ipython",
    "version": 3
   },
   "file_extension": ".py",
   "mimetype": "text/x-python",
   "name": "python",
   "nbconvert_exporter": "python",
   "pygments_lexer": "ipython3",
   "version": "3.12.0"
  }
 },
 "nbformat": 4,
 "nbformat_minor": 2
}
